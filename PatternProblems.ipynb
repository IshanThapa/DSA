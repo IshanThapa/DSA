{
 "cells": [
  {
   "cell_type": "code",
   "execution_count": 7,
   "id": "a1dabebd",
   "metadata": {},
   "outputs": [
    {
     "name": "stdout",
     "output_type": "stream",
     "text": [
      "* * * * * \n",
      "* * * * * \n",
      "* * * * * \n",
      "* * * * * \n",
      "* * * * * \n"
     ]
    }
   ],
   "source": [
    "def solid_square():\n",
    "    size = int(input(\"Enter the side length of the square: \"))\n",
    "    for i in range(size):\n",
    "        for j in range(size):\n",
    "            print(\"*\", end=\" \")\n",
    "        print() # Move to the next line\n",
    "\n",
    "# Call the function\n",
    "solid_square()\n"
   ]
  },
  {
   "cell_type": "code",
   "execution_count": 8,
   "id": "5af88e81",
   "metadata": {},
   "outputs": [
    {
     "name": "stdout",
     "output_type": "stream",
     "text": [
      "* * * * * \n",
      "*       * \n",
      "*       * \n",
      "*       * \n",
      "* * * * * \n"
     ]
    }
   ],
   "source": [
    "def hollow_square():\n",
    "    size = int(input(\"Enter the side length of the square: \"))\n",
    "    for i in range(size):\n",
    "        for j in range(size):\n",
    "            # Print '*' for the first row, last row, first column, or last column\n",
    "            if i == 0 or i == size - 1 or j == 0 or j == size - 1:\n",
    "                print(\"*\", end=\" \")\n",
    "            else:\n",
    "                print(\" \", end=\" \") # Print space for the interior\n",
    "        print()\n",
    "\n",
    "# hollow_square()\n",
    "hollow_square()"
   ]
  },
  {
   "cell_type": "code",
   "execution_count": 9,
   "id": "159279bf",
   "metadata": {},
   "outputs": [
    {
     "name": "stdout",
     "output_type": "stream",
     "text": [
      "* \n",
      "* * \n",
      "* * * \n",
      "* * * * \n",
      "* * * * * \n",
      "* * * * * * \n",
      "* * * * * * * \n",
      "* * * * * * * * \n",
      "* * * * * * * * * \n"
     ]
    }
   ],
   "source": [
    "def right_half_pyramid():\n",
    "    rows = int(input(\"Enter the number of rows for the pyramid: \"))\n",
    "    for i in range(1, rows + 1):\n",
    "        for j in range(i):\n",
    "            print(\"*\", end=\" \")\n",
    "        print()\n",
    "\n",
    "# right_half_pyramid()\n",
    "right_half_pyramid()"
   ]
  },
  {
   "cell_type": "code",
   "execution_count": 12,
   "id": "e936d44c",
   "metadata": {},
   "outputs": [
    {
     "name": "stdout",
     "output_type": "stream",
     "text": [
      "* * * * * * * * * \n",
      "* * * * * * * * \n",
      "* * * * * * * \n",
      "* * * * * * \n",
      "* * * * * \n",
      "* * * * \n",
      "* * * \n",
      "* * \n",
      "* \n"
     ]
    }
   ],
   "source": [
    "def inverted_right_half_pyramid():\n",
    "    rows = int(input(\"Enter the number of rows for the inverted pyramid: \"))\n",
    "    for i in range(rows, 0, -1): # Loop from rows down to 1\n",
    "        for j in range(i):\n",
    "            print(\"*\", end=\" \")\n",
    "        print()\n",
    "\n",
    "# inverted_right_half_pyramid()\n",
    "inverted_right_half_pyramid()"
   ]
  },
  {
   "cell_type": "code",
   "execution_count": 13,
   "id": "121c8944",
   "metadata": {},
   "outputs": [
    {
     "name": "stdout",
     "output_type": "stream",
     "text": [
      "        * \n",
      "       * * \n",
      "      * * * \n",
      "     * * * * \n",
      "    * * * * * \n",
      "   * * * * * * \n",
      "  * * * * * * * \n",
      " * * * * * * * * \n",
      "* * * * * * * * * \n"
     ]
    }
   ],
   "source": [
    "def full_pyramid():\n",
    "    rows = int(input(\"Enter the number of rows for the pyramid: \"))\n",
    "    for i in range(1, rows + 1):\n",
    "        # Print leading spaces\n",
    "        print(\" \" * (rows - i), end=\"\")\n",
    "        # Print stars\n",
    "        print(\"* \" * i) # Each star is followed by a space for proper alignment\n",
    "\n",
    "# full_pyramid()\n",
    "full_pyramid()"
   ]
  },
  {
   "cell_type": "code",
   "execution_count": 14,
   "id": "2ddac6fb",
   "metadata": {},
   "outputs": [
    {
     "name": "stdout",
     "output_type": "stream",
     "text": [
      "* * * * * * * * * \n",
      " * * * * * * * * \n",
      "  * * * * * * * \n",
      "   * * * * * * \n",
      "    * * * * * \n",
      "     * * * * \n",
      "      * * * \n",
      "       * * \n",
      "        * \n"
     ]
    }
   ],
   "source": [
    "def inverted_full_pyramid():\n",
    "    rows = int(input(\"Enter the number of rows for the inverted pyramid: \"))\n",
    "    for i in range(rows, 0, -1):\n",
    "        # Print leading spaces\n",
    "        print(\" \" * (rows - i), end=\"\")\n",
    "        # Print stars\n",
    "        print(\"* \" * i)\n",
    "\n",
    "# inverted_full_pyramid()\n",
    "inverted_full_pyramid()"
   ]
  },
  {
   "cell_type": "code",
   "execution_count": 16,
   "id": "9d687f81",
   "metadata": {},
   "outputs": [
    {
     "name": "stdout",
     "output_type": "stream",
     "text": [
      "Please enter an odd number of rows for a symmetrical diamond.\n"
     ]
    }
   ],
   "source": [
    "def diamond_pattern():\n",
    "    rows = int(input(\"Enter the number of rows for the diamond (must be an odd number for symmetry): \"))\n",
    "    if rows % 2 == 0:\n",
    "        print(\"Please enter an odd number of rows for a symmetrical diamond.\")\n",
    "        return\n",
    "\n",
    "    # Upper half of the diamond (including the middle row)\n",
    "    for i in range(1, rows // 2 + 2):\n",
    "        print(\" \" * (rows // 2 + 1 - i), end=\"\")\n",
    "        print(\"* \" * i)\n",
    "\n",
    "    # Lower half of the diamond\n",
    "    for i in range(rows // 2, 0, -1):\n",
    "        print(\" \" * (rows // 2 + 1 - i), end=\"\")\n",
    "        print(\"* \" * i)\n",
    "\n",
    "# diamond_pattern()\n",
    "diamond_pattern()"
   ]
  },
  {
   "cell_type": "code",
   "execution_count": null,
   "id": "432600c1",
   "metadata": {},
   "outputs": [],
   "source": []
  }
 ],
 "metadata": {
  "kernelspec": {
   "display_name": "Python 3",
   "language": "python",
   "name": "python3"
  },
  "language_info": {
   "codemirror_mode": {
    "name": "ipython",
    "version": 3
   },
   "file_extension": ".py",
   "mimetype": "text/x-python",
   "name": "python",
   "nbconvert_exporter": "python",
   "pygments_lexer": "ipython3",
   "version": "3.10.16"
  }
 },
 "nbformat": 4,
 "nbformat_minor": 5
}
