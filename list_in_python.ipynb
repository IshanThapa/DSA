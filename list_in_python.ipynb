{
  "nbformat": 4,
  "nbformat_minor": 0,
  "metadata": {
    "colab": {
      "provenance": [],
      "authorship_tag": "ABX9TyOZihaDpWiQ7pUvHG3+pxB6",
      "include_colab_link": true
    },
    "kernelspec": {
      "name": "python3",
      "display_name": "Python 3"
    },
    "language_info": {
      "name": "python"
    }
  },
  "cells": [
    {
      "cell_type": "markdown",
      "metadata": {
        "id": "view-in-github",
        "colab_type": "text"
      },
      "source": [
        "<a href=\"https://colab.research.google.com/github/IshanThapa/DSA/blob/master/list_in_python.ipynb\" target=\"_parent\"><img src=\"https://colab.research.google.com/assets/colab-badge.svg\" alt=\"Open In Colab\"/></a>"
      ]
    },
    {
      "cell_type": "markdown",
      "source": [
        "In Python, a list is a built-in, ordered, mutable (changeable) collection of items. Key characteristics"
      ],
      "metadata": {
        "id": "utKSbtjkaXkN"
      }
    },
    {
      "cell_type": "code",
      "execution_count": 1,
      "metadata": {
        "id": "9J5DO3v3XMMt"
      },
      "outputs": [],
      "source": [
        "#Heterogeneous: A Python list can store elements of different data types (integers, strings, floats, even other lists or custom objects) within the same list. This is a major distinguishing factor.\n",
        "my_python_list = [1, \"hello\", 3.14, True, [5, 6]]"
      ]
    },
    {
      "cell_type": "code",
      "source": [
        "print(type(my_python_list))"
      ],
      "metadata": {
        "colab": {
          "base_uri": "https://localhost:8080/"
        },
        "id": "gHSy2K2GaZB3",
        "outputId": "7e07e35c-2e26-4ddf-f869-f3dbbe48e7de"
      },
      "execution_count": 2,
      "outputs": [
        {
          "output_type": "stream",
          "name": "stdout",
          "text": [
            "<class 'list'>\n"
          ]
        }
      ]
    },
    {
      "cell_type": "code",
      "source": [
        "class MeraList:\n",
        "#A list as a class\n",
        "\n",
        "  def __init__(self):\n",
        "    self.size = 1\n",
        "    self.n = 0\n",
        "    # create a C type ka array with size -> self.size\n",
        "    self.A = self.__make_array(self.size)\n",
        "#Finding size of a list\n",
        "  def __len__(self):\n",
        "    return self.n\n",
        "#To adapt more elements expanding the list\n",
        "  def append(self,item):\n",
        "    # check if vacant\n",
        "    if self.n == self.size:\n",
        "      # array is full -> resize\n",
        "      self.__resize(self.size*2)\n",
        "\n",
        "    self.A[self.n] = item\n",
        "    self.n = self.n + 1\n",
        "#Removing element from list\n",
        "  def pop(self):\n",
        "    if self.n == 0:\n",
        "      return 'Empty List'\n",
        "    print(self.A[self.n-1])\n",
        "    self.n = self.n - 1\n",
        "#Clear func of LIst\n",
        "  def clear(self):\n",
        "    self.n = 0\n",
        "    self.size = 1\n",
        "#Searching element in list\n",
        "  def find(self,item):\n",
        "\n",
        "    for i in range(self.n):\n",
        "      if self.A[i] == item:\n",
        "        return i\n",
        "    return 'ValueError - not in list'\n",
        "#Insertion in list at any position\n",
        "  def insert(self,pos,item):\n",
        "\n",
        "    if self.n == self.size:\n",
        "      self.__resize(self.size*2)\n",
        "\n",
        "    for i in range(self.n,pos,-1):\n",
        "      self.A[i] = self.A[i-1]\n",
        "\n",
        "    self.A[pos] = item\n",
        "    self.n = self.n + 1\n",
        "#Removal at any position\n",
        "  def remove(self,item):\n",
        "    # search and get pos\n",
        "    pos = self.find(item)\n",
        "    if type(pos) == int:\n",
        "      # delete\n",
        "      self.__delitem__(pos)\n",
        "    else:\n",
        "      return pos\n",
        "\n",
        "  def __resize(self,new_capacity):\n",
        "    # create a new array with new capacity\n",
        "    B = self.__make_array(new_capacity)\n",
        "    self.size = new_capacity\n",
        "    # copy the content of old array to new one\n",
        "    for i in range(self.n):\n",
        "      B[i] = self.A[i]\n",
        "    # reassign A\n",
        "    self.A = B\n",
        "\n",
        "  def __str__(self):\n",
        "    result = ''\n",
        "    for i in range(self.n):\n",
        "      result = result + str(self.A[i]) + ','\n",
        "\n",
        "    return '[' + result[:-1] + ']'\n",
        "#Finding item at any position\n",
        "  def __getitem__(self,index):\n",
        "\n",
        "    if 0<= index < self.n:\n",
        "      return self.A[index]\n",
        "    else:\n",
        "      return 'IndexError'\n",
        "\n",
        "  def __delitem__(self,pos):\n",
        "    # delete pos wala item\n",
        "    if 0<= pos < self.n:\n",
        "      for i in range(pos,self.n-1):\n",
        "        self.A[i] = self.A[i+1]\n",
        "\n",
        "      self.n = self.n - 1\n",
        "\n",
        "  def __make_array(self,capacity):\n",
        "    # referential array(C type)\n",
        "    return (capacity*ctypes.py_object)()"
      ],
      "metadata": {
        "id": "I3a9E4fza-kx"
      },
      "execution_count": 3,
      "outputs": []
    }
  ]
}